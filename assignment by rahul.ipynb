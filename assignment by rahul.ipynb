{
 "cells": [
  {
   "cell_type": "markdown",
   "id": "8bf48e95",
   "metadata": {},
   "source": [
    "MY JUPITER NOTEBOOK "
   ]
  },
  {
   "cell_type": "markdown",
   "id": "74739256",
   "metadata": {},
   "source": [
    "**RAHUL**\n",
    "\n",
    "STUDENT OF ECONOMICS "
   ]
  },
  {
   "cell_type": "markdown",
   "id": "7a1b0bb4",
   "metadata": {},
   "source": [
    "*I want to do Data Science so that I can find insights regarding from data generated from population ,so that I can help my country Economy in public welfare and to get pareto efficient allocation of different resourses*"
   ]
  },
  {
   "cell_type": "markdown",
   "id": "f18080a6",
   "metadata": {},
   "source": [
    "Data sciene language : ***python,R,Java,SQL,JULIA,C++,SCALA,JAVA SCRIPT,etc.***"
   ]
  },
  {
   "cell_type": "markdown",
   "id": "4dc767c0",
   "metadata": {},
   "source": [
    "**Data science libraries** :\n",
    "TensorFlow\n",
    "NumPy\n",
    "SciPy \n",
    "Pandas\n",
    "Matplotlib \n",
    "Keras\n",
    "SciKit-Learn\n",
    "PyTorch\n",
    "Scrapy"
   ]
  },
  {
   "cell_type": "markdown",
   "id": "1eba584e",
   "metadata": {},
   "source": [
    "### my code gonna find average marks scored by a school class in Economics ### "
   ]
  },
  {
   "cell_type": "code",
   "execution_count": 3,
   "id": "49277d5e",
   "metadata": {},
   "outputs": [
    {
     "name": "stdout",
     "output_type": "stream",
     "text": [
      "average of list: 65.375\n"
     ]
    }
   ],
   "source": [
    "numbers=[45,56,53,86,89,57,35,99,75,68,52,45,56,77,88,65]\n",
    "average=sum(numbers)/len(numbers)\n",
    "print(\"average of list:\",round(average,3))"
   ]
  },
  {
   "cell_type": "markdown",
   "id": "f55e8a64",
   "metadata": {},
   "source": [
    "What I learn from this course\n",
    "\n",
    " - *how to create juypter notebook*   Example of bullet with bold,italic format\n",
    " - *how to write codes*\n",
    " - **markdown and how to run codes**\n",
    " website for coursera to find out useful course https://www.simplilearn.com/tutorials/python-tutorial/find-average-of-list-in-python#:~:text=To%20find%20the%20average%20of%20the%20numbers%20in%20a%20list,function%20from%20the%20statistics%20module.\n",
    " \n",
    " ~I've write these all codes and markdown myself~  sample of strikeout"
   ]
  },
  {
   "cell_type": "code",
   "execution_count": 8,
   "id": "dd6a1804",
   "metadata": {},
   "outputs": [
    {
     "name": "stdout",
     "output_type": "stream",
     "text": [
      "11512\n"
     ]
    }
   ],
   "source": [
    "x=1055\n",
    "y=1456\n",
    "z=1452\n",
    "m=7549\n",
    "print(x+y+z+m)"
   ]
  },
  {
   "cell_type": "code",
   "execution_count": null,
   "id": "50f7bc55",
   "metadata": {},
   "outputs": [],
   "source": []
  }
 ],
 "metadata": {
  "kernelspec": {
   "display_name": "Python 3 (ipykernel)",
   "language": "python",
   "name": "python3"
  },
  "language_info": {
   "codemirror_mode": {
    "name": "ipython",
    "version": 3
   },
   "file_extension": ".py",
   "mimetype": "text/x-python",
   "name": "python",
   "nbconvert_exporter": "python",
   "pygments_lexer": "ipython3",
   "version": "3.9.13"
  }
 },
 "nbformat": 4,
 "nbformat_minor": 5
}
