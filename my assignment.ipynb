{
 "cells": [
  {
   "cell_type": "markdown",
   "id": "ec072b7a",
   "metadata": {},
   "source": [
    "MY JUPITER NOTEBOOK "
   ]
  },
  {
   "cell_type": "markdown",
   "id": "3c01d132",
   "metadata": {},
   "source": [
    "**RAHUL**\n",
    "\n",
    "STUDENT OF ECONOMICS "
   ]
  },
  {
   "cell_type": "markdown",
   "id": "24b12996",
   "metadata": {},
   "source": [
    "*I want to do Data Science so that I can find insights regarding from data generated from population ,so that I can help my country Economy in public welfare and to get pareto efficient allocation of different resourses*"
   ]
  },
  {
   "cell_type": "markdown",
   "id": "3643a17a",
   "metadata": {},
   "source": [
    "### my code gonna find average marks scored by a school class in Economics ### "
   ]
  },
  {
   "cell_type": "code",
   "execution_count": 3,
   "id": "e96fcbef",
   "metadata": {},
   "outputs": [
    {
     "name": "stdout",
     "output_type": "stream",
     "text": [
      "average of list: 65.375\n"
     ]
    }
   ],
   "source": [
    "numbers=[45,56,53,86,89,57,35,99,75,68,52,45,56,77,88,65]\n",
    "average=sum(numbers)/len(numbers)\n",
    "print(\"average of list:\",round(average,3))"
   ]
  },
  {
   "cell_type": "markdown",
   "id": "0a8bd420",
   "metadata": {},
   "source": [
    "What I learn from this course\n",
    "\n",
    " - *how to create juypter notebook*   Example of bullet with bold,italic format\n",
    " - *how to write codes*\n",
    " - **markdown and how to run codes**\n",
    " website for coursera to find out useful course https://www.simplilearn.com/tutorials/python-tutorial/find-average-of-list-in-python#:~:text=To%20find%20the%20average%20of%20the%20numbers%20in%20a%20list,function%20from%20the%20statistics%20module.\n",
    " \n",
    " ~I've write these all codes and markdown myself~  sample of strikeout"
   ]
  },
  {
   "cell_type": "code",
   "execution_count": null,
   "id": "4b94abfa",
   "metadata": {},
   "outputs": [],
   "source": []
  }
 ],
 "metadata": {
  "celltoolbar": "Slideshow",
  "kernelspec": {
   "display_name": "Python 3 (ipykernel)",
   "language": "python",
   "name": "python3"
  },
  "language_info": {
   "codemirror_mode": {
    "name": "ipython",
    "version": 3
   },
   "file_extension": ".py",
   "mimetype": "text/x-python",
   "name": "python",
   "nbconvert_exporter": "python",
   "pygments_lexer": "ipython3",
   "version": "3.9.13"
  }
 },
 "nbformat": 4,
 "nbformat_minor": 5
}
