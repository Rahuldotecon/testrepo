{
 "cells": [
  {
   "cell_type": "markdown",
   "id": "83f9729f",
   "metadata": {},
   "source": [
    "MY JUPITER NOTEBOOK "
   ]
  },
  {
   "cell_type": "markdown",
   "id": "ccacdea5",
   "metadata": {},
   "source": [
    "**RAHUL**\n",
    "\n",
    "STUDENT OF ECONOMICS "
   ]
  },
  {
   "cell_type": "markdown",
   "id": "65e62d28",
   "metadata": {},
   "source": [
    " *I want to do Data Science so that I can find insights regarding from data generated from population ,so that I can help my country Economy in public welfare and to get pareto efficient*"
   ]
  },
  {
   "cell_type": "markdown",
   "id": "81434c10",
   "metadata": {},
   "source": [
    "Data sciene language : ***python,R,Java,SQL,JULIA,C++,SCALA,JAVA SCRIPT,etc.***"
   ]
  },
  {
   "cell_type": "markdown",
   "id": "a25a953e",
   "metadata": {},
   "source": [
    "**Data science libraries** :\n",
    "TensorFlow\n",
    "NumPy\n",
    "SciPy \n",
    "Pandas\n",
    "Matplotlib \n",
    "Keras\n",
    "SciKit-Learn\n",
    "PyTorch\n",
    "Scrapy"
   ]
  },
  {
   "cell_type": "markdown",
   "id": "bcf9e320",
   "metadata": {},
   "source": [
    "### my code gonna find average marks scored by a school class in Economics ### "
   ]
  },
  {
   "cell_type": "code",
   "execution_count": 7,
   "id": "5b100995",
   "metadata": {},
   "outputs": [
    {
     "name": "stdout",
     "output_type": "stream",
     "text": [
      "average of list: 65.375\n"
     ]
    }
   ],
   "source": [
    "numbers=[45,56,53,86,89,57,35,99,75,68,52,45,56,77,88,65]\n",
    "average=sum(numbers)/len(numbers)\n",
    "print(\"average of list:\",round(average,3))"
   ]
  },
  {
   "cell_type": "markdown",
   "id": "112c0d05",
   "metadata": {},
   "source": [
    "What I learn from this course\n",
    "\n",
    "how to create juypter notebook Example of bullet with bold,italic format\n",
    "\n",
    "how to write codes\n",
    "\n",
    "markdown and how to run codes website for coursera to find out useful course https://www.simplilearn.com/tutorials/python-tutorial/find-average-of-list-in-python#:~:text=To%20find%20the%20average%20of%20the%20numbers%20in%20a%20list,function%20from%20the%20statistics%20module.\n",
    "\n",
    "I've write these all codes and markdown myself sample of strikeout"
   ]
  },
  {
   "cell_type": "code",
   "execution_count": 8,
   "id": "3457f9bf",
   "metadata": {},
   "outputs": [
    {
     "name": "stdout",
     "output_type": "stream",
     "text": [
      "11512\n"
     ]
    }
   ],
   "source": [
    "x=1055\n",
    "y=1456\n",
    "z=1452\n",
    "m=7549\n",
    "print(x+y+z+m)"
   ]
  },
  {
   "cell_type": "code",
   "execution_count": 10,
   "id": "7d5b10c3",
   "metadata": {},
   "outputs": [
    {
     "name": "stdout",
     "output_type": "stream",
     "text": [
      "400\n"
     ]
    }
   ],
   "source": [
    "x=10\n",
    "y=14\n",
    "z=14\n",
    "m=12\n",
    "print(x*(y+z+m))"
   ]
  },
  {
   "cell_type": "markdown",
   "id": "8df3b635",
   "metadata": {},
   "source": [
    "created by ***Rahul***\n",
    "on juypter notebook "
   ]
  },
  {
   "cell_type": "code",
   "execution_count": null,
   "id": "07b23340",
   "metadata": {},
   "outputs": [],
   "source": []
  }
 ],
 "metadata": {
  "kernelspec": {
   "display_name": "Python 3 (ipykernel)",
   "language": "python",
   "name": "python3"
  },
  "language_info": {
   "codemirror_mode": {
    "name": "ipython",
    "version": 3
   },
   "file_extension": ".py",
   "mimetype": "text/x-python",
   "name": "python",
   "nbconvert_exporter": "python",
   "pygments_lexer": "ipython3",
   "version": "3.9.13"
  }
 },
 "nbformat": 4,
 "nbformat_minor": 5
}
